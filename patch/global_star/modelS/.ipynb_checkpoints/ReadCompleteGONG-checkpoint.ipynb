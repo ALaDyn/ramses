{
 "cells": [
  {
   "cell_type": "code",
   "execution_count": 1,
   "metadata": {},
   "outputs": [],
   "source": [
    "import numpy as np\n",
    "import re\n",
    "import matplotlib.pyplot as plt"
   ]
  },
  {
   "cell_type": "code",
   "execution_count": 2,
   "metadata": {},
   "outputs": [],
   "source": [
    "f = open('fgong.l5bi.d.15', 'r')\n",
    "lines = f.readlines()\n",
    "f.close()\n",
    "\n",
    "info = lines[4].split()\n",
    "nn = int(info[0])\n",
    "iconst = int(info[1])\n",
    "ivar = int(info[2])\n",
    "ivers = int(info[3])\n",
    "\n",
    "c = []\n",
    "for i in lines[5:]:\n",
    "    c.append(i[0:16])\n",
    "    c.append(i[16:32])\n",
    "    c.append(i[32:48])\n",
    "    c.append(i[48:64])\n",
    "    c.append(i[64:80])\n",
    "\n",
    "c = np.array(c)\n",
    "c = c.astype(np.float)\n",
    "const = c[:iconst]\n",
    "var = c[iconst:]\n",
    "var = np.reshape(var, (nn,ivar))"
   ]
  },
  {
   "cell_type": "code",
   "execution_count": 10,
   "metadata": {},
   "outputs": [
    {
     "data": {
      "image/png": "[encoded data removed]",
      "text/plain": [
       "<Figure size 432x288 with 1 Axes>"
      ]
     },
     "metadata": {
      "needs_background": "light"
     },
     "output_type": "display_data"
    },
    {
     "data": {
      "image/png": "[encoded data removed]",
      "text/plain": [
       "<Figure size 432x288 with 1 Axes>"
      ]
     },
     "metadata": {
      "needs_background": "light"
     },
     "output_type": "display_data"
    }
   ],
   "source": [
    "r = var[:,0] # Radius\n",
    "T = var[:,2] # Temperature\n",
    "eps= var[:,8] # energy generated per unit mass \n",
    "L = var[:,6] # Luminosity\n",
    "\n",
    "plt.figure()\n",
    "plt.title('Model S, energy generated per unit mass')\n",
    "plt.plot(r/np.max(r),eps)\n",
    "plt.show()\n",
    "\n",
    "plt.figure()\n",
    "plt.title('Model S, Luminosity')\n",
    "plt.plot(r/np.max(r),L)\n",
    "plt.show()"
   ]
  },
  {
   "cell_type": "code",
   "execution_count": 122,
   "metadata": {},
   "outputs": [
    {
     "data": {
      "text/plain": [
       "array([' 6.610817565E+10', ' 6.609218295E+10', ' 6.607611770E+10',\n",
       "       ' 6.605997958E+10', ' 6.604376831E+10', ' 6.602748359E+10',\n",
       "       ' 6.601112513E+10', ' 6.599469267E+10', ' 6.597818591E+10',\n",
       "       ' 6.596160460E+10', ' 6.594494847E+10', ' 6.592821727E+10',\n",
       "       ' 6.591141073E+10', ' 6.589452861E+10', ' 6.587757066E+10',\n",
       "       ' 6.586053663E+10', ' 6.584342630E+10', ' 6.582623940E+10',\n",
       "       ' 6.580897571E+10', ' 6.579163496E+10', ' 6.577421690E+10',\n",
       "       ' 6.575672131E+10', ' 6.573914792E+10', ' 6.572149650E+10',\n",
       "       ' 6.570376680E+10', ' 6.568595855E+10', ' 6.566807151E+10',\n",
       "       ' 6.565010542E+10', ' 6.563206004E+10', ' 6.561393512E+10',\n",
       "       ' 6.559573041E+10', ' 6.557744564E+10', ' 6.555908055E+10',\n",
       "       ' 6.554063485E+10', ' 6.552210828E+10', ' 6.550350056E+10',\n",
       "       ' 6.548481140E+10', ' 6.546604052E+10', ' 6.544718763E+10',\n",
       "       ' 6.542825244E+10', ' 6.540923466E+10', ' 6.539013397E+10',\n",
       "       ' 6.537095008E+10', ' 6.535168268E+10', ' 6.533233146E+10',\n",
       "       ' 6.531289609E+10', ' 6.529337626E+10', ' 6.527377164E+10',\n",
       "       ' 6.525408189E+10', ' 6.523430667E+10'], dtype='<U16')"
      ]
     },
     "execution_count": 122,
     "metadata": {},
     "output_type": "execute_result"
    }
   ],
   "source": []
  },
  {
   "cell_type": "code",
   "execution_count": 92,
   "metadata": {},
   "outputs": [],
   "source": [
    "a = np.zeros(12)"
   ]
  },
  {
   "cell_type": "code",
   "execution_count": 118,
   "metadata": {},
   "outputs": [
    {
     "data": {
      "text/plain": [
       "array([[0., 0., 0.],\n",
       "       [0., 0., 0.],\n",
       "       [0., 0., 0.],\n",
       "       [0., 0., 0.]])"
      ]
     },
     "execution_count": 118,
     "metadata": {},
     "output_type": "execute_result"
    }
   ],
   "source": [
    "np.reshape(a,(4,3))"
   ]
  },
  {
   "cell_type": "code",
   "execution_count": null,
   "metadata": {},
   "outputs": [],
   "source": []
  }
 ],
 "metadata": {
  "kernelspec": {
   "display_name": "Python 3",
   "language": "python",
   "name": "python3"
  },
  "language_info": {
   "codemirror_mode": {
    "name": "ipython",
    "version": 3
   },
   "file_extension": ".py",
   "mimetype": "text/x-python",
   "name": "python",
   "nbconvert_exporter": "python",
   "pygments_lexer": "ipython3",
   "version": "3.6.9"
  }
 },
 "nbformat": 4,
 "nbformat_minor": 4
}
